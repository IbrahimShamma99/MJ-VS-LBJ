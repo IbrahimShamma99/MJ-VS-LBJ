{
 "nbformat": 4,
 "nbformat_minor": 2,
 "metadata": {
  "language_info": {
   "name": "python",
   "codemirror_mode": {
    "name": "ipython",
    "version": 3
   },
   "version": "3.7.3-final"
  },
  "orig_nbformat": 2,
  "file_extension": ".py",
  "mimetype": "text/x-python",
  "name": "python",
  "npconvert_exporter": "python",
  "pygments_lexer": "ipython3",
  "version": 3,
  "kernelspec": {
   "name": "python37364bit40f9117861fc4fcab4a62d50a4eae33c",
   "display_name": "Python 3.7.3 64-bit"
  }
 },
 "cells": [
  {
   "cell_type": "code",
   "execution_count": 18,
   "metadata": {},
   "outputs": [],
   "source": [
    "#Import data\n",
    "import numpy as np\n",
    "import pandas as pd\n",
    "import matplotlib.pyplot as plt\n",
    "import seaborn as sns\n",
    "import os"
   ]
  },
  {
   "cell_type": "code",
   "execution_count": 19,
   "metadata": {},
   "outputs": [],
   "source": [
    "#Configuration\n",
    "sns.set(color_codes=True)"
   ]
  },
  {
   "cell_type": "code",
   "execution_count": 20,
   "metadata": {},
   "outputs": [
    {
     "name": "stdout",
     "output_type": "stream",
     "text": "Current working Directory:/home/ibrahim/Repos/MJ-VS-LBJ\nData Directory:/Data\nBron's data file name:/lebron.csv\nMJ's data file name:/jordan.csv\nBron's data Directory:/home/ibrahim/Repos/MJ-VS-LBJ/Data/lebron.csv\nMJ's data Directory:/home/ibrahim/Repos/MJ-VS-LBJ/Data/jordan.csv\n"
    }
   ],
   "source": [
    "#Get current working directory\n",
    "cwd = os.getcwd()\n",
    "dataDir = '/Data'\n",
    "l_file = '/lebron.csv' #Bron's data file name\n",
    "m_file = '/jordan.csv' #Mj's data file name\n",
    "m_Dir = cwd + dataDir + m_file\n",
    "l_Dir = cwd + dataDir + l_file\n",
    "#.....\n",
    "print(\"Current working Directory:\" + cwd)\n",
    "print(\"Data Directory:\" + dataDir)\n",
    "print(\"Bron's data file name:\" + l_file)\n",
    "print(\"MJ's data file name:\" + m_file)\n",
    "print(\"Bron's data Directory:\" + l_Dir)\n",
    "print(\"MJ's data Directory:\" + m_Dir)"
   ]
  },
  {
   "cell_type": "code",
   "execution_count": 21,
   "metadata": {},
   "outputs": [],
   "source": [
    "#Load Datasets\n",
    "Lebron_df = pd.read_csv(l_Dir)\n",
    "Jordan_df = pd.read_csv(m_Dir)"
   ]
  },
  {
   "cell_type": "code",
   "execution_count": 22,
   "metadata": {},
   "outputs": [
    {
     "data": {
      "text/html": "<div>\n<style scoped>\n    .dataframe tbody tr th:only-of-type {\n        vertical-align: middle;\n    }\n\n    .dataframe tbody tr th {\n        vertical-align: top;\n    }\n\n    .dataframe thead th {\n        text-align: right;\n    }\n</style>\n<table border=\"1\" class=\"dataframe\">\n  <thead>\n    <tr style=\"text-align: right;\">\n      <th></th>\n      <th>game</th>\n      <th>date</th>\n      <th>age</th>\n      <th>team</th>\n      <th>opp</th>\n      <th>result</th>\n      <th>mp</th>\n      <th>fg</th>\n      <th>fga</th>\n      <th>fgp</th>\n      <th>...</th>\n      <th>orb</th>\n      <th>drb</th>\n      <th>trb</th>\n      <th>ast</th>\n      <th>stl</th>\n      <th>blk</th>\n      <th>tov</th>\n      <th>pts</th>\n      <th>game_score</th>\n      <th>minus_plus</th>\n    </tr>\n  </thead>\n  <tbody>\n    <tr>\n      <th>0</th>\n      <td>1</td>\n      <td>1984-10-26</td>\n      <td>21-252</td>\n      <td>CHI</td>\n      <td>WSB</td>\n      <td>W (+16)</td>\n      <td>40:00</td>\n      <td>5</td>\n      <td>16</td>\n      <td>0.313</td>\n      <td>...</td>\n      <td>1</td>\n      <td>5</td>\n      <td>6</td>\n      <td>7</td>\n      <td>2</td>\n      <td>4</td>\n      <td>5</td>\n      <td>16</td>\n      <td>12.5</td>\n      <td>NaN</td>\n    </tr>\n    <tr>\n      <th>1</th>\n      <td>2</td>\n      <td>1984-10-27</td>\n      <td>21-253</td>\n      <td>CHI</td>\n      <td>MIL</td>\n      <td>L (-2)</td>\n      <td>34:00</td>\n      <td>8</td>\n      <td>13</td>\n      <td>0.615</td>\n      <td>...</td>\n      <td>3</td>\n      <td>2</td>\n      <td>5</td>\n      <td>5</td>\n      <td>2</td>\n      <td>1</td>\n      <td>3</td>\n      <td>21</td>\n      <td>19.4</td>\n      <td>NaN</td>\n    </tr>\n    <tr>\n      <th>2</th>\n      <td>3</td>\n      <td>1984-10-29</td>\n      <td>21-255</td>\n      <td>CHI</td>\n      <td>MIL</td>\n      <td>W (+6)</td>\n      <td>34:00</td>\n      <td>13</td>\n      <td>24</td>\n      <td>0.542</td>\n      <td>...</td>\n      <td>2</td>\n      <td>2</td>\n      <td>4</td>\n      <td>5</td>\n      <td>6</td>\n      <td>2</td>\n      <td>3</td>\n      <td>37</td>\n      <td>32.9</td>\n      <td>NaN</td>\n    </tr>\n  </tbody>\n</table>\n<p>3 rows × 26 columns</p>\n</div>",
      "text/plain": "   game        date     age team  opp   result     mp  fg  fga    fgp  ...  \\\n0     1  1984-10-26  21-252  CHI  WSB  W (+16)  40:00   5   16  0.313  ...   \n1     2  1984-10-27  21-253  CHI  MIL   L (-2)  34:00   8   13  0.615  ...   \n2     3  1984-10-29  21-255  CHI  MIL   W (+6)  34:00  13   24  0.542  ...   \n\n   orb  drb  trb  ast  stl  blk  tov  pts  game_score  minus_plus  \n0    1    5    6    7    2    4    5   16        12.5         NaN  \n1    3    2    5    5    2    1    3   21        19.4         NaN  \n2    2    2    4    5    6    2    3   37        32.9         NaN  \n\n[3 rows x 26 columns]"
     },
     "execution_count": 22,
     "metadata": {},
     "output_type": "execute_result"
    }
   ],
   "source": [
    "Jordan_df.head(3)"
   ]
  },
  {
   "cell_type": "code",
   "execution_count": 23,
   "metadata": {},
   "outputs": [
    {
     "data": {
      "text/html": "<div>\n<style scoped>\n    .dataframe tbody tr th:only-of-type {\n        vertical-align: middle;\n    }\n\n    .dataframe tbody tr th {\n        vertical-align: top;\n    }\n\n    .dataframe thead th {\n        text-align: right;\n    }\n</style>\n<table border=\"1\" class=\"dataframe\">\n  <thead>\n    <tr style=\"text-align: right;\">\n      <th></th>\n      <th>game</th>\n      <th>date</th>\n      <th>age</th>\n      <th>team</th>\n      <th>opp</th>\n      <th>result</th>\n      <th>mp</th>\n      <th>fg</th>\n      <th>fga</th>\n      <th>fgp</th>\n      <th>...</th>\n      <th>orb</th>\n      <th>drb</th>\n      <th>trb</th>\n      <th>ast</th>\n      <th>stl</th>\n      <th>blk</th>\n      <th>tov</th>\n      <th>pts</th>\n      <th>game_score</th>\n      <th>minus_plus</th>\n    </tr>\n  </thead>\n  <tbody>\n    <tr>\n      <th>0</th>\n      <td>1</td>\n      <td>2003-10-29</td>\n      <td>18-303</td>\n      <td>CLE</td>\n      <td>SAC</td>\n      <td>L (-14)</td>\n      <td>42:00</td>\n      <td>12</td>\n      <td>20</td>\n      <td>0.600</td>\n      <td>...</td>\n      <td>2</td>\n      <td>4</td>\n      <td>6</td>\n      <td>9</td>\n      <td>4</td>\n      <td>0</td>\n      <td>2</td>\n      <td>25</td>\n      <td>24.7</td>\n      <td>-9</td>\n    </tr>\n    <tr>\n      <th>1</th>\n      <td>2</td>\n      <td>2003-10-30</td>\n      <td>18-304</td>\n      <td>CLE</td>\n      <td>PHO</td>\n      <td>L (-9)</td>\n      <td>41:00</td>\n      <td>8</td>\n      <td>17</td>\n      <td>0.471</td>\n      <td>...</td>\n      <td>2</td>\n      <td>10</td>\n      <td>12</td>\n      <td>8</td>\n      <td>1</td>\n      <td>0</td>\n      <td>7</td>\n      <td>21</td>\n      <td>14.7</td>\n      <td>-3</td>\n    </tr>\n    <tr>\n      <th>2</th>\n      <td>3</td>\n      <td>2003-11-01</td>\n      <td>18-306</td>\n      <td>CLE</td>\n      <td>POR</td>\n      <td>L (-19)</td>\n      <td>39:00</td>\n      <td>3</td>\n      <td>12</td>\n      <td>0.250</td>\n      <td>...</td>\n      <td>0</td>\n      <td>4</td>\n      <td>4</td>\n      <td>6</td>\n      <td>2</td>\n      <td>0</td>\n      <td>2</td>\n      <td>8</td>\n      <td>5.0</td>\n      <td>-21</td>\n    </tr>\n  </tbody>\n</table>\n<p>3 rows × 26 columns</p>\n</div>",
      "text/plain": "   game        date     age team  opp   result     mp  fg  fga    fgp  ...  \\\n0     1  2003-10-29  18-303  CLE  SAC  L (-14)  42:00  12   20  0.600  ...   \n1     2  2003-10-30  18-304  CLE  PHO   L (-9)  41:00   8   17  0.471  ...   \n2     3  2003-11-01  18-306  CLE  POR  L (-19)  39:00   3   12  0.250  ...   \n\n   orb  drb  trb  ast  stl  blk  tov  pts  game_score  minus_plus  \n0    2    4    6    9    4    0    2   25        24.7          -9  \n1    2   10   12    8    1    0    7   21        14.7          -3  \n2    0    4    4    6    2    0    2    8         5.0         -21  \n\n[3 rows x 26 columns]"
     },
     "execution_count": 23,
     "metadata": {},
     "output_type": "execute_result"
    }
   ],
   "source": [
    "Lebron_df.head(3)"
   ]
  },
  {
   "cell_type": "code",
   "execution_count": 26,
   "metadata": {},
   "outputs": [
    {
     "name": "stdout",
     "output_type": "stream",
     "text": "Dataset size(1132, 26)\nDataset size(1072, 26)\nGames contained in the Dataset for Bron: 1132\nGames contained in the Dataset for Mj: 1072\n"
    }
   ],
   "source": [
    "print(\"Dataset size\" + str(Lebron_df.shape) )\n",
    "print(\"Dataset size\" + str(Jordan_df.shape) )\n",
    "#.....\n",
    "print(\"Games contained in the Dataset for Bron: \" + str(Lebron_df.shape[0]) )\n",
    "print(\"Games contained in the Dataset for Mj: \" + str(Jordan_df.shape[0]) )"
   ]
  },
  {
   "cell_type": "code",
   "execution_count": null,
   "metadata": {},
   "outputs": [],
   "source": []
  }
 ]
}