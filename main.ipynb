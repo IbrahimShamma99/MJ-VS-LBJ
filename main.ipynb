{
 "nbformat": 4,
 "nbformat_minor": 2,
 "metadata": {
  "language_info": {
   "name": "python",
   "codemirror_mode": {
    "name": "ipython",
    "version": 3
   },
   "version": "3.7.3-final"
  },
  "orig_nbformat": 2,
  "file_extension": ".py",
  "mimetype": "text/x-python",
  "name": "python",
  "npconvert_exporter": "python",
  "pygments_lexer": "ipython3",
  "version": 3,
  "kernelspec": {
   "name": "python37364bit40f9117861fc4fcab4a62d50a4eae33c",
   "display_name": "Python 3.7.3 64-bit"
  }
 },
 "cells": [
  {
   "cell_type": "code",
   "execution_count": 5,
   "metadata": {},
   "outputs": [],
   "source": [
    "#Import data\n",
    "import numpy as np\n",
    "import pandas as pd\n",
    "import matplotlib.pyplot as plt\n",
    "import seaborn as sns\n",
    "import os"
   ]
  },
  {
   "cell_type": "code",
   "execution_count": 3,
   "metadata": {},
   "outputs": [],
   "source": [
    "#Configuration\n",
    "sns.set(color_codes=True)"
   ]
  },
  {
   "cell_type": "code",
   "execution_count": 11,
   "metadata": {},
   "outputs": [
    {
     "name": "stdout",
     "output_type": "stream",
     "text": "Current working Directory:/home/ibrahim/Repos/MJ-VS-LBJ\nData Directory:/Data\nBron's data file name:/lebron.csv\nMJ's data file name:/jordan.csv\n"
    }
   ],
   "source": [
    "#Get current working directory\n",
    "cwd = os.getcwd()\n",
    "dataDir = '/Data'\n",
    "l_file = '/lebron.csv' #Bron's data file name\n",
    "m_file = '/jordan.csv' #Mj's data file name\n",
    "m_Dir = cwd + dataDir + m_file\n",
    "l_Dir = cwd + dataDir + l_file\n",
    "print(\"Current working Directory:\" + cwd)\n",
    "print(\"Data Directory:\" + dataDir)\n",
    "print(\"Bron's data file name:\" + l_file)\n",
    "print(\"MJ's data file name:\" + m_file)"
   ]
  },
  {
   "cell_type": "code",
   "execution_count": null,
   "metadata": {},
   "outputs": [],
   "source": [
    "#Load Datasets\n"
   ]
  }
 ]
}